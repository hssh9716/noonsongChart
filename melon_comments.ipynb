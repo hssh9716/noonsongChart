{
 "cells": [
  {
   "cell_type": "code",
   "execution_count": 5,
   "metadata": {
    "scrolled": false
   },
   "outputs": [
    {
     "name": "stdout",
     "output_type": "stream",
     "text": [
      "the end\n"
     ]
    }
   ],
   "source": [
    "from selenium import webdriver\n",
    "#from webdriver_manager.chrome import ChromeDriverManager\n",
    "from bs4 import BeautifulSoup\n",
    "import urllib.request\n",
    "import pymysql \n",
    "import math\n",
    "\n",
    "hdr = {'User-Agent': 'Mozilla/5.0'} \n",
    "url = 'https://www.melon.com/chart/index.htm'\n",
    "\n",
    "driver = webdriver.Chrome('C:\\chromedriver.exe')\n",
    "\n",
    "# create cursor\n",
    "\n",
    "conn = pymysql.connect(host = \"127.0.0.1\",user = 'root', passwd = 'root', db = 'gradproj')\n",
    "cur = conn.cursor()\n",
    "\n",
    "#create table\n",
    "query1 = \"\"\"drop table if exists comments\"\"\"\n",
    "cur.execute(query1)\n",
    "\n",
    "query2 = \"\"\"create table comments(title varchar(100), album varchar(100), writerID varchar(50),comment varchar(1000));\"\"\"\n",
    "cur.execute(query2)\n",
    "\n",
    "#save songID \n",
    "req = urllib.request.Request(url, headers=hdr) \n",
    "html = urllib.request.urlopen(req).read()\n",
    "soup = BeautifulSoup(html, 'html.parser')\n",
    "\n",
    "lst100=soup.select('.lst50, .lst100')\n",
    "songID = []\n",
    "title=[]\n",
    "album=[]\n",
    "for i in lst100:\n",
    "    songID.append(i.attrs['data-song-no'])\n",
    "    title.append(i.select_one('.ellipsis.rank01').a.text)\n",
    "    album.append(i.select_one('.ellipsis.rank03').a.text)\n",
    "\n",
    "baseUrl = 'https://www.melon.com/song/detail.htm?songId='\n",
    "#노래100개\n",
    "for i in range(0, len(songID)):\n",
    "    plusUrl = songID[i]\n",
    "    url = baseUrl + plusUrl\n",
    "    driver.get(url)\n",
    "    #마지막 페이지 찾기\n",
    "    source = driver.page_source\n",
    "    bs = BeautifulSoup(source, 'html.parser')\n",
    "    result = bs.find(class_=\"fl_left\").find('span').get_text()\n",
    "    total_count = int(result.replace(',', ''))\n",
    "    lastPage=math.ceil(total_count/10)\n",
    "    #댓글 1페이지부터 마지막 페이지까지 크롤링\n",
    "    for p in range(1, lastPage+1):\n",
    "        lasturl = url + '#cmtpgn=&pageNo=' + str(p)\n",
    "        driver.get(lasturl)\n",
    "        driver.implicitly_wait(60)\n",
    "        source = driver.page_source\n",
    "        bs = BeautifulSoup(source, 'html.parser')\n",
    "        \n",
    "        replies = bs.find_all(class_=\"list_cmt\")\n",
    "        writerID=[]\n",
    "        comment=[]\n",
    "        for j in replies:\n",
    "            writerID.append(j.find(\"a\").attrs[\"data-member-key\"])\n",
    "            comment.append(j.find(class_=\"cmt_text\").get_text())\n",
    "        for k in range(0, len(writerID)):\n",
    "            sql = \"INSERT INTO comments VALUES (%s, %s, %s, %s)\"\n",
    "            values = (title[i], album[i], writerID[k], comment[k])\n",
    "            cur.execute(sql, values)\n",
    "            \n",
    "\n",
    "\n",
    "    \n",
    "conn.commit()\n",
    "cur.close()\n",
    "conn.close()\n",
    "driver.close()\n",
    "print(\"the end\")"
   ]
  },
  {
   "cell_type": "code",
   "execution_count": null,
   "metadata": {},
   "outputs": [],
   "source": []
  }
 ],
 "metadata": {
  "kernelspec": {
   "display_name": "Python 3",
   "language": "python",
   "name": "python3"
  },
  "language_info": {
   "codemirror_mode": {
    "name": "ipython",
    "version": 3
   },
   "file_extension": ".py",
   "mimetype": "text/x-python",
   "name": "python",
   "nbconvert_exporter": "python",
   "pygments_lexer": "ipython3",
   "version": "3.7.4"
  }
 },
 "nbformat": 4,
 "nbformat_minor": 2
}
