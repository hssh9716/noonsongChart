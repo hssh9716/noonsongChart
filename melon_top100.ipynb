{
 "cells": [
  {
   "cell_type": "code",
   "execution_count": 7,
   "metadata": {
    "scrolled": true
   },
   "outputs": [
    {
     "name": "stdout",
     "output_type": "stream",
     "text": [
      "the end\n"
     ]
    }
   ],
   "source": [
    "import urllib.request \n",
    "from bs4 import BeautifulSoup \n",
    "import pymysql\n",
    "\n",
    "hdr = {'User-Agent': 'Mozilla/5.0'} \n",
    "url = 'https://www.melon.com/chart/index.htm'\n",
    "\n",
    "# create cursor\n",
    "conn = pymysql.connect(host = \"127.0.0.1\",user = 'root', passwd = 'root', db = 'gradproj')\n",
    "cur = conn.cursor()\n",
    "\n",
    "#create table\n",
    "query1 = \"\"\"drop table if exists musicList\"\"\"\n",
    "cur.execute(query1)\n",
    "\n",
    "query2 = \"\"\"create table musicList(title varchar(100),artist varchar(100),album varchar(100),primary key (title, album));\"\"\"\n",
    "cur.execute(query2)\n",
    "\n",
    "#chart crawling\n",
    "req = urllib.request.Request(url, headers=hdr) \n",
    "html = urllib.request.urlopen(req).read() \n",
    "soup = BeautifulSoup(html, 'html.parser')\n",
    "\n",
    "lst100 = soup.select('.lst50, .lst100')\n",
    "\n",
    "#save in List\n",
    "title = []\n",
    "artist=[]\n",
    "album=[]\n",
    "\n",
    "for i in lst100:\n",
    "    artist.append(i.select_one('.ellipsis.rank02').a.text)\n",
    "    title.append(i.select_one('.ellipsis.rank01').a.text)\n",
    "    album.append(i.select_one('.ellipsis.rank03').a.text)\n",
    "\n",
    "#save in db\n",
    "for i in range(0,len(title)):\n",
    "    sql = \"INSERT INTO musicList VALUES (%s, %s, %s)\"\n",
    "    values = (title[i], artist[i], album[i])\n",
    "    cur.execute(sql, values)\n",
    "    \n",
    "conn.commit()\n",
    "cur.close()\n",
    "conn.close()\n",
    "\n",
    "\n",
    "print('the end')"
   ]
  },
  {
   "cell_type": "code",
   "execution_count": null,
   "metadata": {},
   "outputs": [],
   "source": []
  }
 ],
 "metadata": {
  "kernelspec": {
   "display_name": "Python 3",
   "language": "python",
   "name": "python3"
  },
  "language_info": {
   "codemirror_mode": {
    "name": "ipython",
    "version": 3
   },
   "file_extension": ".py",
   "mimetype": "text/x-python",
   "name": "python",
   "nbconvert_exporter": "python",
   "pygments_lexer": "ipython3",
   "version": "3.7.4"
  }
 },
 "nbformat": 4,
 "nbformat_minor": 2
}
